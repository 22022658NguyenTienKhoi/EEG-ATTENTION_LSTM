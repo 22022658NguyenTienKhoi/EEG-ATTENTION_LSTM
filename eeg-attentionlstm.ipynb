{
 "cells": [
  {
   "cell_type": "code",
   "execution_count": 1,
   "metadata": {
    "_cell_guid": "c24145bc-fb93-488b-9858-3b1b6bae82d6",
    "_uuid": "c726ce06-48e2-4c51-99e2-99bc45a7902a",
    "collapsed": false,
    "execution": {
     "iopub.execute_input": "2025-05-26T02:27:36.790941Z",
     "iopub.status.busy": "2025-05-26T02:27:36.790289Z",
     "iopub.status.idle": "2025-05-26T02:27:39.631411Z",
     "shell.execute_reply": "2025-05-26T02:27:39.630754Z",
     "shell.execute_reply.started": "2025-05-26T02:27:36.790912Z"
    },
    "jupyter": {
     "outputs_hidden": false
    },
    "trusted": true
   },
   "outputs": [],
   "source": [
    "import os\n",
    "import mne\n",
    "import numpy as np\n",
    "import pandas as pd\n",
    "\n",
    "from scipy.signal import butter, filtfilt # Keep original filtfilt for the improved func\n",
    "# Removed resample as it wasn't used, can be added back if needed\n",
    "from sklearn.preprocessing import StandardScaler\n",
    "from scipy.stats import skew, kurtosis\n",
    "# Removed pywt as it wasn't used, can be added back if needed\n",
    "\n",
    "from sklearn.model_selection import train_test_split\n",
    "\n",
    "import torch\n",
    "import torch.nn as nn\n",
    "import torch.optim as optim\n",
    "from torch.utils.data import DataLoader, TensorDataset\n",
    "from torch.optim.lr_scheduler import ReduceLROnPlateau\n",
    "\n",
    "from tqdm import tqdm\n",
    "import matplotlib.pyplot as plt\n",
    "import warnings\n",
    "\n",
    "# Suppress specific MNE warnings if desired, adjust as needed\n",
    "warnings.filterwarnings(\"ignore\", message=\".*pick_types.*legacy function.*\")\n",
    "warnings.filterwarnings(\"ignore\", message=\".*maximum epoch persistence is not supported.*\") # Common non-critical warning\n",
    "mne.set_log_level('WARNING') # Reduce MNE verbosity"
   ]
  },
  {
   "cell_type": "code",
   "execution_count": 2,
   "metadata": {
    "execution": {
     "iopub.execute_input": "2025-05-26T02:27:39.632794Z",
     "iopub.status.busy": "2025-05-26T02:27:39.632439Z",
     "iopub.status.idle": "2025-05-26T02:27:39.640150Z",
     "shell.execute_reply": "2025-05-26T02:27:39.639368Z",
     "shell.execute_reply.started": "2025-05-26T02:27:39.632776Z"
    },
    "trusted": true
   },
   "outputs": [],
   "source": [
    "def bandpass_filter_improved(data, lowcut=12.0, highcut=35.0, fs=250, order=5):\n",
    "    '''Apply a bandpass filter to the EEG data efficiently.\n",
    "    Args:\n",
    "        data: ndarray of shape (num_samples, num_channels, num_timesteps)\n",
    "              or (num_channels, num_timesteps)\n",
    "        lowcut: float, lower frequency bound\n",
    "        highcut: float, upper frequency bound\n",
    "        fs: int, sampling frequency\n",
    "        order: int, filter order\n",
    "    Returns:\n",
    "        filtered_data: ndarray of the same shape as input\n",
    "    '''\n",
    "    nyquist = 0.5 * 250\n",
    "    low = lowcut / nyquist\n",
    "    high = highcut / nyquist\n",
    "\n",
    "    # Input validation for frequencies\n",
    "    low = max(0, low) # Ensure low is not negative\n",
    "    high = min(1.0 - 1e-6 , high) # Ensure high is less than 1 (nyquist limit)\n",
    "    \n",
    "    if low >= high:\n",
    "        print(f\"Warning: lowcut({low}Hz) >= highcut({high}Hz). Returning original data.\")\n",
    "        return data\n",
    "\n",
    "    if high >= 1.0 and low <= 0.0: # Effectively no filtering\n",
    "        print(\"Warning: Filter range covers full spectrum. Returning original data.\")\n",
    "        return data\n",
    "    elif low <= 0.0: # Lowpass filter\n",
    "        # print(\"Applying Lowpass Filter\")\n",
    "        b, a = butter(order, high, btype='low')\n",
    "    elif high >= 1.0: # Highpass filter\n",
    "        # print(\"Applying Highpass Filter\")\n",
    "        b, a = butter(order, low, btype='high')\n",
    "    else: # Bandpass filter\n",
    "        # print(\"Applying Bandpass Filter\")\n",
    "        b, a = butter(order, [low, high], btype='band')\n",
    "\n",
    "    # Apply the filter along the last axis (time dimension)\n",
    "    try:\n",
    "        filtered_data = filtfilt(b, a, data, axis=-1, padlen=min(150, data.shape[-1]-1)) # Add padlen\n",
    "    except ValueError as e:\n",
    "        print(f\"Error during filtering: {e}. Data shape: {data.shape}. Filter params: b={b}, a={a}. Returning original data.\")\n",
    "        # Handle short signals that might cause issues with filtfilt's padding\n",
    "        if \"padlen must be less than\" in str(e):\n",
    "             print(\"Signal too short for default padding. Trying minimal padding.\")\n",
    "             try:\n",
    "                 filtered_data = filtfilt(b, a, data, axis=-1, padlen=1)\n",
    "             except Exception as e_inner:\n",
    "                 print(f\"Minimal padding failed: {e_inner}. Returning original data.\")\n",
    "                 return data\n",
    "        else:\n",
    "             return data\n",
    "\n",
    "    return filtered_data"
   ]
  },
  {
   "cell_type": "code",
   "execution_count": 3,
   "metadata": {
    "execution": {
     "iopub.execute_input": "2025-05-26T02:27:39.641058Z",
     "iopub.status.busy": "2025-05-26T02:27:39.640856Z",
     "iopub.status.idle": "2025-05-26T02:27:39.658846Z",
     "shell.execute_reply": "2025-05-26T02:27:39.658212Z",
     "shell.execute_reply.started": "2025-05-26T02:27:39.641041Z"
    },
    "trusted": true
   },
   "outputs": [],
   "source": [
    "def normalize_eeg_channelwise(data):\n",
    "    '''\n",
    "    Normalize EEG data using z-score normalization per channel across time.\n",
    "    Handles potential flat channels (std=0).\n",
    "    Args:\n",
    "        data: ndarray of shape (num_samples, num_channels, num_timesteps)\n",
    "              or (num_channels, num_timesteps)\n",
    "    Returns:\n",
    "        data_normalized: ndarray of the same shape as input\n",
    "    '''\n",
    "    # Calculate mean and std along the time axis (last axis)\n",
    "    mean = np.mean(data, axis=-1, keepdims=True)\n",
    "    std = np.std(data, axis=-1, keepdims=True)\n",
    "\n",
    "    # Prevent division by zero for channels with no variance\n",
    "    std[std == 0] = 1e-6  # Replace 0 std with a very small number\n",
    "\n",
    "    return (data - mean) / std"
   ]
  },
  {
   "cell_type": "code",
   "execution_count": 4,
   "metadata": {
    "execution": {
     "iopub.execute_input": "2025-05-26T02:27:39.660553Z",
     "iopub.status.busy": "2025-05-26T02:27:39.660285Z",
     "iopub.status.idle": "2025-05-26T02:27:39.674002Z",
     "shell.execute_reply": "2025-05-26T02:27:39.673317Z",
     "shell.execute_reply.started": "2025-05-26T02:27:39.660534Z"
    },
    "trusted": true
   },
   "outputs": [],
   "source": [
    "def segment_eeg_improved(data, segment_length):\n",
    "    '''\n",
    "    Segment EEG data into fixed-length non-overlapping segments efficiently.\n",
    "    Args:\n",
    "        data: ndarray of shape (num_samples, num_channels, num_timesteps)\n",
    "        segment_length: int, length of each segment in samples\n",
    "    Returns:\n",
    "        segmented_data: ndarray of shape (num_total_segments, num_channels, segment_length)\n",
    "                       Returns None if input data is empty or segment_length is invalid/too large.\n",
    "    '''\n",
    "    if data is None or data.size == 0 or segment_length <= 0:\n",
    "        #print(\"Warning: Empty data or invalid segment length provided to segment_eeg.\")\n",
    "        return None\n",
    "\n",
    "    num_samples, num_channels, num_timesteps = data.shape\n",
    "\n",
    "    if segment_length > num_timesteps:\n",
    "        #print(f\"Warning: Segment length ({segment_length}) > total timesteps ({num_timesteps}). Cannot segment.\")\n",
    "        return None # Or return an empty array: np.empty((0, num_channels, segment_length))\n",
    "\n",
    "    # Calculate number of full segments per sample\n",
    "    num_segments_per_sample = num_timesteps // segment_length\n",
    "\n",
    "    if num_segments_per_sample == 0:\n",
    "         #print(f\"Warning: No full segments possible with length {segment_length} for timesteps {num_timesteps}.\")\n",
    "         return np.empty((0, num_channels, segment_length))\n",
    "\n",
    "    # Truncate data to include only full segments\n",
    "    total_timesteps_used = num_segments_per_sample * segment_length\n",
    "    truncated_data = data[:, :, :total_timesteps_used]\n",
    "\n",
    "    # Reshape to separate segments\n",
    "    # Shape becomes (num_samples, num_channels, num_segments_per_sample, segment_length)\n",
    "    try:\n",
    "        segmented_data = truncated_data.reshape(num_samples, num_channels, num_segments_per_sample, segment_length)\n",
    "    except ValueError as e:\n",
    "        print(f\"Error reshaping data during segmentation: {e}\")\n",
    "        print(f\"Input shape: {data.shape}, Truncated shape: {truncated_data.shape}\")\n",
    "        print(f\"Target reshape: {(num_samples, num_channels, num_segments_per_sample, segment_length)}\")\n",
    "        return None\n",
    "\n",
    "\n",
    "    # Transpose and reshape to desired output: (num_total_segments, num_channels, segment_length)\n",
    "    # Transpose: (num_samples, num_segments_per_sample, num_channels, segment_length)\n",
    "    segmented_data = segmented_data.transpose(0, 2, 1, 3)\n",
    "    # Reshape: (num_samples * num_segments_per_sample, num_channels, segment_length)\n",
    "    final_shape = (num_samples * num_segments_per_sample, num_channels, segment_length)\n",
    "    segmented_data = segmented_data.reshape(final_shape)\n",
    "\n",
    "    return segmented_data"
   ]
  },
  {
   "cell_type": "code",
   "execution_count": 5,
   "metadata": {
    "execution": {
     "iopub.execute_input": "2025-05-26T02:27:39.674787Z",
     "iopub.status.busy": "2025-05-26T02:27:39.674596Z",
     "iopub.status.idle": "2025-05-26T02:27:39.695622Z",
     "shell.execute_reply": "2025-05-26T02:27:39.694822Z",
     "shell.execute_reply.started": "2025-05-26T02:27:39.674772Z"
    },
    "trusted": true
   },
   "outputs": [],
   "source": [
    "def processing_data_corrected(X, segment_length, fs): # Added segment_length and fs params\n",
    "    \"\"\" Processes a single file's data (assumed shape [1, channels, timesteps]) \"\"\"\n",
    "    if X is None or X.size == 0:\n",
    "        return None\n",
    "\n",
    "    # 1. Filter data\n",
    "    # Use the improved, vectorized filter function\n",
    "    filtered_data = bandpass_filter_improved(X, fs=fs) # Pass fs\n",
    "\n",
    "    # 2. Normalize data\n",
    "    # Use the improved, vectorized normalizer (channel-wise within the file)\n",
    "    normalized_data = normalize_eeg_channelwise(filtered_data)\n",
    "    # 3. Segment data\n",
    "    # Use the improved, vectorized segmenter\n",
    "    segmented_data = segment_eeg_improved(normalized_data, segment_length=segment_length)\n",
    "\n",
    "    # Return ALL segments generated for this file\n",
    "    return segmented_data\n",
    "\n",
    "\n",
    "def mapping_data_path(input_paths, labeled_ids_set): # Use set for efficiency\n",
    "    \"\"\" Filters input paths to include only those whose participant ID is in the labeled set. \"\"\"\n",
    "    input_paths_filtered = []\n",
    "    for input_path in input_paths:\n",
    "        try:\n",
    "            basename = os.path.basename(input_path)\n",
    "            # Assuming format like 'sub-CCXXXXXX_...' - adjust if different\n",
    "            parts = basename.split('_')\n",
    "            if len(parts) > 1 and parts[0].startswith('sub-'):\n",
    "                 participant_id = parts[0] # e.g., 'sub-CC110033'\n",
    "                 if participant_id in labeled_ids_set:\n",
    "                    input_paths_filtered.append(input_path)\n",
    "            else:\n",
    "                 print(f\"Warning: Could not parse participant ID from filename: {basename}\")\n",
    "        except Exception as e:\n",
    "            print(f\"Error parsing filename {input_path}: {e}\")\n",
    "    return input_paths_filtered\n",
    "\n",
    "\n",
    "def load_data_corrected(data_parents_path, segment_length_seconds=4): # Parameter for segment length\n",
    "    \"\"\" Loads, processes (all segments), and combines data and labels correctly. \"\"\"\n",
    "    print(f\"Starting data loading from: {data_parents_path}\")\n",
    "    print(f\"Using segment length: {segment_length_seconds} seconds\")\n",
    "\n",
    "    input_paths = sorted([os.path.join(dp, f) for dp, dn, fn in os.walk(os.path.expanduser(data_parents_path)) for f in fn if f.endswith('.fif')])\n",
    "    label_path = os.path.join(data_parents_path, 'filtered_subjects_with_age.tsv') # Use os.path.join\n",
    "\n",
    "    if not os.path.exists(label_path):\n",
    "        print(f\"Error: Label file not found at {label_path}\")\n",
    "        return None, None\n",
    "    if not input_paths:\n",
    "        print(f\"Error: No .fif files found in {data_parents_path}\")\n",
    "        return None, None\n",
    "\n",
    "    try:\n",
    "        label_df = pd.read_csv(label_path, sep='\\\\t')\n",
    "        # Ensure column names are correct (they might have spaces if copied/pasted)\n",
    "        label_df.columns = [col.strip() for col in label_df.columns]\n",
    "        print(f\"Label file loaded. Columns: {label_df.columns.tolist()}\")\n",
    "        if 'participant_id' not in label_df.columns or 'age' not in label_df.columns:\n",
    "             print(\"Error: Label file must contain 'participant_id' and 'age' columns.\")\n",
    "             return None, None\n",
    "\n",
    "        # Create a mapping from participant_id to age for easier lookup\n",
    "        label_map = label_df.set_index('participant_id')['age'].to_dict()\n",
    "        labeled_ids_set = set(label_df['participant_id'].values) # Use set for faster lookup\n",
    "        print(f\"Found {len(labeled_ids_set)} unique participant IDs with labels.\")\n",
    "\n",
    "    except Exception as e:\n",
    "        print(f\"Error reading or processing label file {label_path}: {e}\")\n",
    "        return None, None\n",
    "\n",
    "    input_paths_filtered = mapping_data_path(input_paths, labeled_ids_set)\n",
    "    print(f\"Found {len(input_paths_filtered)} files matching labeled participants.\")\n",
    "\n",
    "    if not input_paths_filtered:\n",
    "        print(\"Error: No files found that match the participant IDs in the label file.\")\n",
    "        return None, None\n",
    "\n",
    "    X_list = []\n",
    "    y_list = []\n",
    "    fs = None # To store sampling frequency (should be consistent)\n",
    "    segment_length_samples = None # Will be set after loading first file\n",
    "    n_channels = None # To store number of channels (should be consistent)\n",
    "\n",
    "    print(f\"Processing {len(input_paths_filtered)} files...\")\n",
    "    for i, input_path in enumerate(tqdm(input_paths_filtered, desc=\"Loading Files\")):\n",
    "        # print(f\"  File {i+1}/{len(input_paths_filtered)}: {os.path.basename(input_path)}\")\n",
    "        try:\n",
    "            raw = mne.io.read_raw_fif(input_path, preload=True) # preload=True needed for get_data\n",
    "\n",
    "            # --- Determine fs, segment length in samples, and n_channels from first file ---\n",
    "            if fs is None:\n",
    "                fs = raw.info['sfreq']\n",
    "                segment_length_samples = int(fs * segment_length_seconds)\n",
    "                print(f\"    Detected fs={fs:.2f} Hz. Using segment length={segment_length_samples} samples ({segment_length_seconds}s).\")\n",
    "                if segment_length_samples == 0:\n",
    "                     print(\"Error: Calculated segment length in samples is 0. Check fs and segment_length_seconds.\")\n",
    "                     return None, None\n",
    "            elif abs(fs - raw.info['sfreq']) > 1000 : # Check for consistency\n",
    "                 print(f\"    WARNING: Inconsistent sampling frequency! Expected ~{fs:.2f}, got {raw.info['sfreq']:.2f}. Skipping file: {os.path.basename(input_path)}\")\n",
    "                 continue\n",
    "\n",
    "            # --- Select Channels ---\n",
    "            # !!! CRITICAL: Changed misc=True to eeg=True !!!\n",
    "            # Adjust if your channels are truly 'misc', but usually EEG channels are 'eeg'\n",
    "            # Exclude 'bads' and common non-EEG channels like EOG, ECG if present\n",
    "            try:\n",
    "                 picks = mne.pick_types(raw.info, misc=True, meg=False, stim=False, eog=False, ecg=False, exclude='bads')\n",
    "                 if len(picks) == 0:\n",
    "                      # Fallback or alternative? Maybe check 'misc' if 'eeg' fails?\n",
    "                      print(f\"    WARNING: No 'eeg' channels found in {os.path.basename(input_path)}. Trying 'misc'.\")\n",
    "                      picks = mne.pick_types(raw.info, misc=True, exclude='bads')\n",
    "                      if len(picks) == 0:\n",
    "                           print(f\"    WARNING: No 'eeg' or 'misc' channels found. Skipping file.\")\n",
    "                           continue\n",
    "\n",
    "                 channels_to_process = raw.copy().pick(picks=picks)\n",
    "                 current_n_channels = len(channels_to_process.ch_names)\n",
    "                 #print(f\"    Selected {current_n_channels} channels.\")\n",
    "\n",
    "            except Exception as pick_error:\n",
    "                 print(f\"    Error picking channels for {os.path.basename(input_path)}: {pick_error}. Skipping file.\")\n",
    "                 continue\n",
    "\n",
    "\n",
    "            if n_channels is None:\n",
    "                n_channels = current_n_channels\n",
    "                print(f\"    Setting expected number of channels to {n_channels}.\")\n",
    "            elif n_channels != current_n_channels:\n",
    "                 print(f\"    WARNING: Inconsistent number of channels! Expected {n_channels}, got {current_n_channels}. Skipping file: {os.path.basename(input_path)}\")\n",
    "                 continue\n",
    "\n",
    "\n",
    "            # --- Get Data ---\n",
    "            data = channels_to_process.get_data() # Shape: (num_channels, num_timesteps)\n",
    "            if data.shape[1] < segment_length_samples:\n",
    "                 print(f\"    WARNING: File duration ({data.shape[1]/fs:.2f}s) is shorter than segment length ({segment_length_seconds}s). Skipping file: {os.path.basename(input_path)}\")\n",
    "                 continue\n",
    "\n",
    "            # Add a sample dimension for processing functions expecting (samples, channels, time)\n",
    "            data_batch = np.array([data]) # Shape: (1, num_channels, num_timesteps)\n",
    "\n",
    "            # --- Process data - this now returns ALL segments for this file ---\n",
    "            # Shape: (num_segments_in_file, num_channels, segment_length_samples)\n",
    "            data_processed_segments = processing_data_corrected(data_batch, segment_length=segment_length_samples, fs=10)\n",
    "\n",
    "\n",
    "            # --- Accumulate Data and Labels ---\n",
    "            if data_processed_segments is not None and data_processed_segments.shape[0] > 0:\n",
    "                num_segments_in_file = data_processed_segments.shape[0]\n",
    "                # print(f\"    Generated {num_segments_in_file} segments.\")\n",
    "\n",
    "                # Get the participant ID from filename to find the label\n",
    "                basename = os.path.basename(input_path)\n",
    "                participant_id = basename.split('_')[0] # Assumes 'sub-XXXXXX_...' format\n",
    "\n",
    "                if participant_id in label_map:\n",
    "                    age_label = label_map[participant_id]\n",
    "                    X_list.append(data_processed_segments)\n",
    "                    # Repeat the label for each segment generated from this file\n",
    "                    y_list.extend([age_label] * num_segments_in_file)\n",
    "                else:\n",
    "                    print(f\"    WARNING: Could not find label for participant {participant_id}. Skipping segments from this file.\")\n",
    "            # else:\n",
    "            #     print(f\"    WARNING: No segments generated after processing for {os.path.basename(input_path)}.\")\n",
    "\n",
    "        except FileNotFoundError:\n",
    "            print(f\"    ERROR: File not found {input_path}\")\n",
    "        except Exception as e:\n",
    "            print(f\"    ERROR processing file {os.path.basename(input_path)}: {e}\")\n",
    "            # Consider adding more specific error handling if needed\n",
    "\n",
    "    # --- Final Assembly ---\n",
    "    if not X_list:\n",
    "        print(\"Error: No data segments were successfully processed and collected.\")\n",
    "        # Determine expected shape even if empty\n",
    "        final_n_channels = n_channels if n_channels is not None else 0\n",
    "        final_seg_len = segment_length_samples if segment_length_samples is not None else 0\n",
    "        return np.empty((0, final_n_channels, final_seg_len)), np.empty((0,))\n",
    "\n",
    "    # Concatenate all segments from all files\n",
    "    try:\n",
    "        X = np.concatenate(X_list, axis=0)\n",
    "        y = np.array(y_list)\n",
    "    except ValueError as e:\n",
    "         print(f\"Error concatenating data segments: {e}\")\n",
    "         # Print shapes of lists items for debugging\n",
    "         #for idx, item in enumerate(X_list):\n",
    "         #    print(f\" Shape of X_list[{idx}]: {item.shape}\")\n",
    "         return None, None # Indicate failure\n",
    "\n",
    "\n",
    "    print(f\"Finished loading. Final shapes: X={X.shape}, y={y.shape}\")\n",
    "\n",
    "    # --- Sanity Check ---\n",
    "    if X.shape[0] != y.shape[0]:\n",
    "         print(f\"CRITICAL WARNING: Mismatch between number of segments ({X.shape[0]}) and number of labels ({y.shape[0]})!\")\n",
    "\n",
    "    return X, y"
   ]
  },
  {
   "cell_type": "code",
   "execution_count": 6,
   "metadata": {
    "execution": {
     "iopub.execute_input": "2025-05-26T02:27:39.696795Z",
     "iopub.status.busy": "2025-05-26T02:27:39.696516Z",
     "iopub.status.idle": "2025-05-26T02:30:03.068811Z",
     "shell.execute_reply": "2025-05-26T02:30:03.066551Z",
     "shell.execute_reply.started": "2025-05-26T02:27:39.696771Z"
    },
    "trusted": true
   },
   "outputs": [
    {
     "name": "stderr",
     "output_type": "stream",
     "text": [
      "/tmp/ipykernel_137/3751606109.py:56: ParserWarning: Falling back to the 'python' engine because the 'c' engine does not support regex separators (separators > 1 char and different from '\\s+' are interpreted as regex); you can avoid this warning by specifying engine='python'.\n",
      "  label_df = pd.read_csv(label_path, sep='\\\\t')\n"
     ]
    },
    {
     "name": "stdout",
     "output_type": "stream",
     "text": [
      "Starting data loading from: /kaggle/input/eeg-brain/Neural-Science/data\n",
      "Using segment length: 2.5 seconds\n",
      "Label file loaded. Columns: ['participant_id', 'age']\n",
      "Found 160 unique participant IDs with labels.\n",
      "Found 214 files matching labeled participants.\n",
      "Processing 214 files...\n"
     ]
    },
    {
     "name": "stderr",
     "output_type": "stream",
     "text": [
      "Loading Files:   0%|          | 0/214 [00:00<?, ?it/s]"
     ]
    },
    {
     "name": "stdout",
     "output_type": "stream",
     "text": [
      "    Detected fs=250.00 Hz. Using segment length=625 samples (2.5s).\n",
      "    Setting expected number of channels to 52.\n"
     ]
    },
    {
     "name": "stderr",
     "output_type": "stream",
     "text": [
      "Loading Files: 100%|██████████| 214/214 [02:11<00:00,  1.62it/s]\n"
     ]
    },
    {
     "name": "stdout",
     "output_type": "stream",
     "text": [
      "Finished loading. Final shapes: X=(48714, 52, 625), y=(48714,)\n",
      "\\n--- Data Loading Successful ---\n",
      "Loaded X shape: (48714, 52, 625)\n",
      "Loaded y shape: (48714,)\n"
     ]
    }
   ],
   "source": [
    "# Define the path and desired segment length\n",
    "data_path = '/kaggle/input/eeg-brain/Neural-Science/data'\n",
    "# <<< CHOOSE YOUR SEGMENT LENGTH HERE >>>\n",
    "segment_duration_seconds = 2.5 # Example: Use 5-second segments\n",
    "\n",
    "X, y = load_data_corrected(data_path, segment_length_seconds=segment_duration_seconds)\n",
    "\n",
    "# Check if loading was successful before proceeding\n",
    "if X is None or y is None or X.size == 0 or y.size == 0:\n",
    "    print(\"\\\\n--- Data Loading Failed. Stopping Execution. ---\")\n",
    "    # You might want to raise an error or handle this appropriately\n",
    "    # For now, just stop the notebook cell execution if in an interactive environment\n",
    "    assert False, \"Data loading failed, cannot continue.\"\n",
    "else:\n",
    "    print(\"\\\\n--- Data Loading Successful ---\")\n",
    "    print(f\"Loaded X shape: {X.shape}\") # Should be (total_segments, num_channels, segment_len_samples)\n",
    "    print(f\"Loaded y shape: {y.shape}\") # Should be (total_segments,)"
   ]
  },
  {
   "cell_type": "code",
   "execution_count": 7,
   "metadata": {
    "execution": {
     "iopub.execute_input": "2025-05-26T02:30:03.070607Z",
     "iopub.status.busy": "2025-05-26T02:30:03.070326Z",
     "iopub.status.idle": "2025-05-26T02:31:09.578134Z",
     "shell.execute_reply": "2025-05-26T02:31:09.577272Z",
     "shell.execute_reply.started": "2025-05-26T02:30:03.070586Z"
    },
    "trusted": true
   },
   "outputs": [],
   "source": [
    "from sklearn.linear_model import Lasso\n",
    "from sklearn.preprocessing import StandardScaler\n",
    "import numpy as np\n",
    "# Assume you have functions to extract features like PSD\n",
    "# def extract_psd_features(segment_channel_data, fs=250, bands=None):\n",
    "#     # ... returns a 1D array of band powers for that single channel's segment data\n",
    "#     # e.g., [delta_power, theta_power, alpha_power, beta_power, gamma_power]\n",
    "#     if bands is None:\n",
    "#         bands = {'delta': [0.5, 4], 'theta': [4, 8], 'alpha': [8, 13], 'beta': [13, 30], 'gamma': [30, 50]}\n",
    "#     # Placeholder: Replace with actual PSD calculation (e.g., using Welch)\n",
    "#     # For simplicity, let's say it returns 5 features\n",
    "#     return np.random.rand(len(bands))\n",
    "\n",
    "\n",
    "# Assume X_train_tensor, y_train_tensor are your PyTorch tensors\n",
    "# X_train_tensor shape: (num_segments, num_channels, segment_length)\n",
    "# y_train_tensor shape: (num_segments, 1) or (num_segments,)\n",
    "\n",
    "# Convert to NumPy for scikit-learn\n",
    "X_train_np = X\n",
    "y_train_np = y.ravel() # Ensure y is 1D\n",
    "\n",
    "num_segments, num_channels, segment_length = X_train_np.shape\n",
    "#num_psd_bands = 5 # Example\n",
    "\n",
    "# 1. & 2. Extract features and flatten\n",
    "X_train_for_lasso = []\n",
    "for i in range(num_segments):\n",
    "    segment_features_flat = []\n",
    "    for j in range(num_channels):\n",
    "        channel_segment_data = X_train_np[i, j, :]\n",
    "        # channel_psd = extract_psd_features(channel_segment_data, fs=YOUR_SAMPLING_RATE)\n",
    "        # For demonstration, let's use mean and std as features per channel for simplicity\n",
    "        channel_mean = np.mean(channel_segment_data)\n",
    "        channel_std = np.std(channel_segment_data)\n",
    "        segment_features_flat.extend([channel_mean, channel_std]) # 3 features per channel\n",
    "    X_train_for_lasso.append(segment_features_flat)\n",
    "\n",
    "X_train_for_lasso = np.array(X_train_for_lasso)\n",
    "# Shape: (num_segments, num_channels * 2) in this simplified example\n",
    "\n",
    "# Scale features for Lasso\n",
    "scaler = StandardScaler()\n",
    "X_train_scaled_for_lasso = scaler.fit_transform(X_train_for_lasso)\n",
    "\n",
    "# 3. Apply Lasso\n",
    "# Alpha is the regularization strength. You'll need to tune this (e.g., via cross-validation)\n",
    "# Higher alpha = more sparsity (more zero coefficients)"
   ]
  },
  {
   "cell_type": "code",
   "execution_count": 8,
   "metadata": {
    "execution": {
     "iopub.execute_input": "2025-05-26T02:31:09.579472Z",
     "iopub.status.busy": "2025-05-26T02:31:09.579129Z",
     "iopub.status.idle": "2025-05-26T02:31:09.585475Z",
     "shell.execute_reply": "2025-05-26T02:31:09.584756Z",
     "shell.execute_reply.started": "2025-05-26T02:31:09.579448Z"
    },
    "trusted": true
   },
   "outputs": [
    {
     "data": {
      "text/plain": [
       "'from sklearn.linear_model import LassoCV\\n# ... (prepare X_train_scaled_for_lasso, y_train_np) ...\\nlasso_cv = LassoCV(cv=10, random_state=0, max_iter=5000) # cv=5 for 5-fold CV\\nlasso_cv.fit(X_train_scaled_for_lasso, y_train_np)\\nprint(f\"Optimal alpha found by LassoCV: {lasso_cv.alpha_}\")\\n# Use lasso_cv.coef_ for channel importance\\nlasso_coefs = lasso_cv.coef_\\n# Calculate importance per channel (example: sum of absolute coefficients)\\nnum_features_per_channel = 2 # In our simplified example (mean, std)\\nchannel_importance = []\\nfor j in range(num_channels):\\n    start_idx = j * num_features_per_channel\\n    end_idx = start_idx + num_features_per_channel\\n    channel_coefs = lasso_coefs[start_idx:end_idx]\\n    importance = np.sum(np.abs(channel_coefs))\\n    channel_importance.append(importance)\\n\\n# Select top N channels\\nchannel_indices_sorted_by_importance = np.argsort(channel_importance)[::-1] # Descending'"
      ]
     },
     "execution_count": 8,
     "metadata": {},
     "output_type": "execute_result"
    }
   ],
   "source": [
    "'''from sklearn.linear_model import LassoCV\n",
    "# ... (prepare X_train_scaled_for_lasso, y_train_np) ...\n",
    "lasso_cv = LassoCV(cv=10, random_state=0, max_iter=5000) # cv=5 for 5-fold CV\n",
    "lasso_cv.fit(X_train_scaled_for_lasso, y_train_np)\n",
    "print(f\"Optimal alpha found by LassoCV: {lasso_cv.alpha_}\")\n",
    "# Use lasso_cv.coef_ for channel importance\n",
    "lasso_coefs = lasso_cv.coef_\n",
    "# Calculate importance per channel (example: sum of absolute coefficients)\n",
    "num_features_per_channel = 2 # In our simplified example (mean, std)\n",
    "channel_importance = []\n",
    "for j in range(num_channels):\n",
    "    start_idx = j * num_features_per_channel\n",
    "    end_idx = start_idx + num_features_per_channel\n",
    "    channel_coefs = lasso_coefs[start_idx:end_idx]\n",
    "    importance = np.sum(np.abs(channel_coefs))\n",
    "    channel_importance.append(importance)\n",
    "\n",
    "# Select top N channels\n",
    "channel_indices_sorted_by_importance = np.argsort(channel_importance)[::-1] # Descending'''"
   ]
  },
  {
   "cell_type": "code",
   "execution_count": 9,
   "metadata": {
    "execution": {
     "iopub.execute_input": "2025-05-26T02:31:09.587128Z",
     "iopub.status.busy": "2025-05-26T02:31:09.586364Z",
     "iopub.status.idle": "2025-05-26T02:31:09.604560Z",
     "shell.execute_reply": "2025-05-26T02:31:09.603879Z",
     "shell.execute_reply.started": "2025-05-26T02:31:09.587104Z"
    },
    "trusted": true
   },
   "outputs": [
    {
     "data": {
      "text/plain": [
       "'channel_importance_np = np.array(channel_importance)\\n\\n# --- MODIFIED CHANNEL SELECTION ---\\n# Select channels where the calculated importance is greater than zero\\nselected_channel_indices = np.where(channel_importance_np > 0)[0]\\nselected_channel_indices'"
      ]
     },
     "execution_count": 9,
     "metadata": {},
     "output_type": "execute_result"
    }
   ],
   "source": [
    "'''channel_importance_np = np.array(channel_importance)\n",
    "\n",
    "# --- MODIFIED CHANNEL SELECTION ---\n",
    "# Select channels where the calculated importance is greater than zero\n",
    "selected_channel_indices = np.where(channel_importance_np > 0)[0]\n",
    "selected_channel_indices'''"
   ]
  },
  {
   "cell_type": "code",
   "execution_count": 10,
   "metadata": {
    "execution": {
     "iopub.execute_input": "2025-05-26T02:31:09.608234Z",
     "iopub.status.busy": "2025-05-26T02:31:09.607818Z",
     "iopub.status.idle": "2025-05-26T02:31:10.656425Z",
     "shell.execute_reply": "2025-05-26T02:31:10.655799Z",
     "shell.execute_reply.started": "2025-05-26T02:31:09.608208Z"
    },
    "trusted": true
   },
   "outputs": [
    {
     "name": "stdout",
     "output_type": "stream",
     "text": [
      "Selected channel indices: [0, 1, 2, 8, 13, 20, 22, 27, 33, 34, 35, 44]\n"
     ]
    }
   ],
   "source": [
    "#NUM_CHANNELS_TO_SELECT = 20 # Example\n",
    "#selected_channel_indices = channel_indices_sorted_by_importance[:NUM_CHANNELS_TO_SELECT]\n",
    "selected_channel_indices = [ 0, 1, 2, 8, 13, 20, 22, 27, 33, 34, 35, 44]\n",
    "print(f\"Selected channel indices: {selected_channel_indices}\")\n",
    "X_selected_channels = X[:, selected_channel_indices, :]\n",
    "del X"
   ]
  },
  {
   "cell_type": "markdown",
   "metadata": {},
   "source": [
    "[ 0  1  2  8 13 20 22 27 33 34 35 44]"
   ]
  },
  {
   "cell_type": "code",
   "execution_count": 11,
   "metadata": {
    "execution": {
     "iopub.execute_input": "2025-05-26T02:31:10.657349Z",
     "iopub.status.busy": "2025-05-26T02:31:10.657135Z",
     "iopub.status.idle": "2025-05-26T02:31:10.662579Z",
     "shell.execute_reply": "2025-05-26T02:31:10.661983Z",
     "shell.execute_reply.started": "2025-05-26T02:31:10.657332Z"
    },
    "trusted": true
   },
   "outputs": [
    {
     "data": {
      "text/plain": [
       "[0, 1, 2, 8, 13, 20, 22, 27, 33, 34, 35, 44]"
      ]
     },
     "execution_count": 11,
     "metadata": {},
     "output_type": "execute_result"
    }
   ],
   "source": [
    "selected_channel_indices"
   ]
  },
  {
   "cell_type": "code",
   "execution_count": 12,
   "metadata": {
    "execution": {
     "iopub.execute_input": "2025-05-26T02:31:10.664071Z",
     "iopub.status.busy": "2025-05-26T02:31:10.663340Z",
     "iopub.status.idle": "2025-05-26T02:31:11.380418Z",
     "shell.execute_reply": "2025-05-26T02:31:11.379708Z",
     "shell.execute_reply.started": "2025-05-26T02:31:10.664045Z"
    },
    "trusted": true
   },
   "outputs": [
    {
     "name": "stdout",
     "output_type": "stream",
     "text": [
      "\\n--- Tensors Created ---\n",
      "X_tensor shape: torch.Size([48714, 12, 625])\n",
      "y_tensor shape: torch.Size([48714, 1])\n"
     ]
    }
   ],
   "source": [
    "# Ensure data is valid before converting\n",
    "if X_selected_channels is not None and y is not None and X_selected_channels.size > 0 and y.size > 0:\n",
    "    X_tensor = torch.tensor(X_selected_channels, dtype=torch.float32) # Use float32 for PyTorch\n",
    "    y_tensor = torch.tensor(y, dtype=torch.float32) # Use float32 for regression\n",
    "\n",
    "    # Reshape y to match PyTorch requirements for loss function (batch_size, 1)\n",
    "    y_tensor = y_tensor.view(-1, 1)\n",
    "\n",
    "    print(f\"\\\\n--- Tensors Created ---\")\n",
    "    print(f\"X_tensor shape: {X_tensor.shape}\")\n",
    "    print(f\"y_tensor shape: {y_tensor.shape}\")\n",
    "else:\n",
    "    print(\"\\\\n--- Skipping Tensor Conversion due to Loading Errors ---\")\n",
    "    X_tensor, y_tensor = None, None # Ensure they are None if loading failed\n",
    "del X_selected_channels\n",
    "del y"
   ]
  },
  {
   "cell_type": "code",
   "execution_count": 13,
   "metadata": {
    "execution": {
     "iopub.execute_input": "2025-05-26T02:31:11.381647Z",
     "iopub.status.busy": "2025-05-26T02:31:11.381424Z",
     "iopub.status.idle": "2025-05-26T02:31:12.272092Z",
     "shell.execute_reply": "2025-05-26T02:31:12.271492Z",
     "shell.execute_reply.started": "2025-05-26T02:31:11.381629Z"
    },
    "trusted": true
   },
   "outputs": [
    {
     "name": "stdout",
     "output_type": "stream",
     "text": [
      "\\n--- DataLoaders Created ---\n",
      "Train samples: 34100, Test samples: 14614\n",
      "Train batches: 2131, Test batches: 914\n"
     ]
    }
   ],
   "source": [
    "# Check if tensors are valid before splitting\n",
    "if X_tensor is not None and y_tensor is not None:\n",
    "    # !!! IMPORTANT NOTE ON SPLITTING !!!\n",
    "    # This basic train_test_split shuffles segments randomly.\n",
    "    # Segments from the SAME SUBJECT might end up in BOTH train and test sets.\n",
    "    # This leads to data leakage and overly optimistic results.\n",
    "    # A better approach is SUBJECT-AWARE splitting: Split participant IDs first,\n",
    "    # then collect all segments belonging to train/test subjects.\n",
    "    # For now, we proceed with the simple split as in the original code.\n",
    "\n",
    "    test_fraction = 0.3 # Use a fraction for robustness if total segments vary\n",
    "    test_size_count = int(len(X_tensor) * test_fraction)\n",
    "    # Ensure test_size is at least 1 if dataset is very small, adjust if needed\n",
    "    test_size_count = max(1, test_size_count) if len(X_tensor) > 0 else 0\n",
    "\n",
    "    if test_size_count > 0 and test_size_count < len(X_tensor):\n",
    "        X_train, X_test, y_train, y_test = train_test_split(\n",
    "            X_tensor, y_tensor, test_size=test_size_count, random_state=42, shuffle=True\n",
    "        )\n",
    "\n",
    "        # Create DataLoader for batch processing\n",
    "        train_dataset = TensorDataset(X_train, y_train)\n",
    "        test_dataset = TensorDataset(X_test, y_test)\n",
    "\n",
    "        batch_size = 16 # Adjusted batch size, tune as needed\n",
    "        train_loader = DataLoader(train_dataset, batch_size=batch_size, shuffle=True, drop_last=True) # drop_last can help with stability\n",
    "        test_loader = DataLoader(test_dataset, batch_size=batch_size, shuffle=False)\n",
    "\n",
    "        print(\"\\\\n--- DataLoaders Created ---\")\n",
    "        print(f\"Train samples: {len(X_train)}, Test samples: {len(X_test)}\")\n",
    "        print(f\"Train batches: {len(train_loader)}, Test batches: {len(test_loader)}\")\n",
    "    else:\n",
    "        print(\"\\\\n--- Not enough data to perform train/test split ---\")\n",
    "        train_loader, test_loader = None, None\n",
    "else:\n",
    "    print(\"\\\\n--- Skipping Train/Test Split due to Loading Errors ---\")\n",
    "    train_loader, test_loader = None, None\n",
    "#del X_tensor\n",
    "#del y_tensor"
   ]
  },
  {
   "cell_type": "code",
   "execution_count": 14,
   "metadata": {
    "execution": {
     "iopub.execute_input": "2025-05-26T02:31:12.272760Z",
     "iopub.status.busy": "2025-05-26T02:31:12.272563Z",
     "iopub.status.idle": "2025-05-26T02:31:12.328560Z",
     "shell.execute_reply": "2025-05-26T02:31:12.327693Z",
     "shell.execute_reply.started": "2025-05-26T02:31:12.272743Z"
    },
    "trusted": true
   },
   "outputs": [
    {
     "name": "stdout",
     "output_type": "stream",
     "text": [
      "Baseline MAE (predicting mean age): 15.292816162109375\n"
     ]
    }
   ],
   "source": [
    "mean_age_train = torch.mean(y_train)\n",
    "baseline_predictions = torch.full_like(y_test, mean_age_train) # y_val_numpy are true ages in validation\n",
    "baseline_mae = torch.mean(abs(y_test - baseline_predictions))\n",
    "print(f\"Baseline MAE (predicting mean age): {baseline_mae}\")"
   ]
  },
  {
   "cell_type": "code",
   "execution_count": null,
   "metadata": {
    "execution": {
     "iopub.execute_input": "2025-05-26T02:31:12.329783Z",
     "iopub.status.busy": "2025-05-26T02:31:12.329530Z",
     "iopub.status.idle": "2025-05-26T02:31:12.339358Z",
     "shell.execute_reply": "2025-05-26T02:31:12.338655Z",
     "shell.execute_reply.started": "2025-05-26T02:31:12.329755Z"
    },
    "trusted": true
   },
   "outputs": [],
   "source": [
    "class AttentionLSTMModel(nn.Module):\n",
    "    def __init__(self, num_channels, embedding_dim=128, lstm_hidden=64, nhead=1, dim_ff=256, dropout=0.3):\n",
    "        super(AttentionLSTMModel, self).__init__()\n",
    "\n",
    "        self.embedding_dim = embedding_dim\n",
    "        self.input_proj = nn.Linear(num_channels, self.embedding_dim) # Project channels to embedding dim\n",
    "        self.pos_encoder = nn.Identity() # Placeholder: Consider adding positional encoding for transformer\n",
    "\n",
    "        # Attention Block (Transformer Encoder Layer)\n",
    "        # Ensure embedding_dim is divisible by nhead\n",
    "        if embedding_dim % nhead != 0:\n",
    "            # Find nearest valid nhead\n",
    "            valid_nheads = [h for h in range(1, embedding_dim + 1) if embedding_dim % h == 0]\n",
    "            nhead = valid_nheads[-1] if valid_nheads else 1 # Default to 1 if no divisors found\n",
    "            print(f\"Warning: embedding_dim ({embedding_dim}) not divisible by nhead (8). Adjusted nhead to {nhead}.\")\n",
    "\n",
    "        encoder_layer = nn.TransformerEncoderLayer(\n",
    "            d_model=self.embedding_dim,\n",
    "            nhead=nhead,\n",
    "            dim_feedforward=dim_ff,\n",
    "            dropout=dropout, # Apply dropout within transformer\n",
    "            batch_first=True,\n",
    "            activation='relu' # Common activation\n",
    "        )\n",
    "        self.transformer_encoder = nn.TransformerEncoder(encoder_layer, num_layers=2) # Single layer transformer\n",
    "\n",
    "        # LSTM Layers - Using nn.LSTM is generally preferred over nn.RNN\n",
    "        self.lstm = nn.LSTM(input_size=self.embedding_dim, hidden_size=lstm_hidden, num_layers=1, bidirectional = True,batch_first=True, dropout=dropout if 1 > 1 else 0) # Dropout applies between layers if num_layers > 1\n",
    "        # A second LSTM layer might be too much, consider removing or reducing hidden size\n",
    "        # self.lstm2 = nn.LSTM(input_size=lstm_hidden, hidden_size=lstm_hidden // 2, num_layers=1, batch_first=True, dropout=dropout if 1 > 1 else 0)\n",
    "\n",
    "        # Regression Head\n",
    "        self.fc = nn.Sequential(\n",
    "            nn.LayerNorm(lstm_hidden * 2), # Add LayerNorm before activation\n",
    "            nn.ReLU(),\n",
    "            nn.Dropout(dropout), # Use consistent dropout rate\n",
    "            nn.Linear(lstm_hidden * 2, lstm_hidden // 2), # Add another layer\n",
    "            nn.LayerNorm(lstm_hidden // 2),\n",
    "            nn.ReLU(),\n",
    "            nn.Dropout(dropout),\n",
    "            nn.Linear(lstm_hidden // 2, 1) # Final output\n",
    "        )\n",
    "\n",
    "    def forward(self, x):\n",
    "        # x shape: (batch_size, channels, timesteps)\n",
    "        # print(\"Input:\", x.shape)\n",
    "        x = x.permute(0, 2, 1)  # → (batch_size, timesteps, channels)\n",
    "        # print(\"Permuted:\", x.shape)\n",
    "        x = self.input_proj(x)  # → (batch_size, timesteps, embedding_dim)\n",
    "        # print(\"Projected:\", x.shape)\n",
    "\n",
    "        # Add positional encoding if using it\n",
    "        x = self.pos_encoder(x)\n",
    "\n",
    "        # Apply Transformer Encoder\n",
    "        x = self.transformer_encoder(x) # → (batch_size, timesteps, embedding_dim)\n",
    "        # print(\"After Transformer:\", x.shape)\n",
    "\n",
    "        # Apply LSTM\n",
    "        # LSTM output: output_seq, (h_n, c_n)\n",
    "        # output_seq shape: (batch_size, timesteps, hidden_size)\n",
    "        # h_n shape: (num_layers, batch_size, hidden_size)\n",
    "        lstm_out, (h_n, _) = self.lstm(x)\n",
    "        #print(\"After LSTM1 output:\", lstm_out.shape)\n",
    "        #print(\"After LSTM1 hidden:\", h_n.shape)\n",
    "\n",
    "        # Optional second LSTM\n",
    "        # lstm_out, (h_n, _) = self.lstm2(lstm_out)\n",
    "        # print(\"After LSTM2 output:\", lstm_out.shape)\n",
    "        # print(\"After LSTM2 hidden:\", h_n.shape)\n",
    "\n",
    "\n",
    "        # Get the output of the last time step from the last LSTM layer\n",
    "        # h_n is shape (num_layers, batch_size, hidden_size), we want the last layer's hidden state\n",
    "        #last_hidden_state = h_n[-1, :, :] # → (batch_size, hidden_size)\n",
    "        # Concatenate them along the feature dimension\n",
    "        last_hidden_state_forward = h_n[0, :, :]  # Shape: (batch_size, hidden_size)\n",
    "        last_hidden_state_backward = h_n[1, :, :] # Shape: (batch_size, hidden_size)\n",
    "\n",
    "        # Concatenate:\n",
    "        last_hidden_state = torch.cat((last_hidden_state_forward, last_hidden_state_backward), dim=1)\n",
    "        #print(\"Last Hidden State:\", last_hidden_state.shape)\n",
    "\n",
    "        # Alternatively, use the last time step of the output sequence:\n",
    "        # last_time_step_output = lstm_out[:, -1, :] # -> (batch_size, hidden_size)\n",
    "\n",
    "        x = self.fc(last_hidden_state) # Feed the final hidden state to the classifier\n",
    "        # print(\"Final Output:\", x.shape)\n",
    "        return x"
   ]
  },
  {
   "cell_type": "code",
   "execution_count": 16,
   "metadata": {
    "execution": {
     "iopub.execute_input": "2025-05-26T02:31:12.340602Z",
     "iopub.status.busy": "2025-05-26T02:31:12.340271Z",
     "iopub.status.idle": "2025-05-26T02:31:15.132037Z",
     "shell.execute_reply": "2025-05-26T02:31:15.131184Z",
     "shell.execute_reply.started": "2025-05-26T02:31:12.340581Z"
    },
    "trusted": true
   },
   "outputs": [
    {
     "name": "stdout",
     "output_type": "stream",
     "text": [
      "Using device: cuda\n",
      "\\n--- Model Initialized ---\n",
      "AttentionLSTMModel(\n",
      "  (input_proj): Linear(in_features=12, out_features=128, bias=True)\n",
      "  (pos_encoder): Identity()\n",
      "  (transformer_encoder): TransformerEncoder(\n",
      "    (layers): ModuleList(\n",
      "      (0-1): 2 x TransformerEncoderLayer(\n",
      "        (self_attn): MultiheadAttention(\n",
      "          (out_proj): NonDynamicallyQuantizableLinear(in_features=128, out_features=128, bias=True)\n",
      "        )\n",
      "        (linear1): Linear(in_features=128, out_features=512, bias=True)\n",
      "        (dropout): Dropout(p=0.15, inplace=False)\n",
      "        (linear2): Linear(in_features=512, out_features=128, bias=True)\n",
      "        (norm1): LayerNorm((128,), eps=1e-05, elementwise_affine=True)\n",
      "        (norm2): LayerNorm((128,), eps=1e-05, elementwise_affine=True)\n",
      "        (dropout1): Dropout(p=0.15, inplace=False)\n",
      "        (dropout2): Dropout(p=0.15, inplace=False)\n",
      "      )\n",
      "    )\n",
      "  )\n",
      "  (lstm): LSTM(128, 128, batch_first=True, bidirectional=True)\n",
      "  (fc): Sequential(\n",
      "    (0): LayerNorm((256,), eps=1e-05, elementwise_affine=True)\n",
      "    (1): ReLU()\n",
      "    (2): Dropout(p=0.15, inplace=False)\n",
      "    (3): Linear(in_features=256, out_features=64, bias=True)\n",
      "    (4): LayerNorm((64,), eps=1e-05, elementwise_affine=True)\n",
      "    (5): ReLU()\n",
      "    (6): Dropout(p=0.15, inplace=False)\n",
      "    (7): Linear(in_features=64, out_features=1, bias=True)\n",
      "  )\n",
      ")\n",
      "Total Trainable Parameters: 679,553\n"
     ]
    },
    {
     "name": "stderr",
     "output_type": "stream",
     "text": [
      "/usr/local/lib/python3.11/dist-packages/torch/optim/lr_scheduler.py:62: UserWarning: The verbose parameter is deprecated. Please use get_last_lr() to access the learning rate.\n",
      "  warnings.warn(\n"
     ]
    }
   ],
   "source": [
    "from transformers import get_cosine_schedule_with_warmup, get_polynomial_decay_schedule_with_warmup\n",
    "# Ensure data loaders are valid before initializing model\n",
    "if train_loader is not None:\n",
    "    # Get input shape from the loaded data\n",
    "    # X_tensor shape: (total_segments, num_channels, segment_len_samples)\n",
    "    input_channels = 12\n",
    "    #X_tensor.shape[1] # Timesteps not directly needed by this model init\n",
    "\n",
    "    # --- Hyperparameters ---\n",
    "    EMBEDDING_DIM = 128 # Dimension after initial projection\n",
    "    LSTM_HIDDEN = 128   # LSTM hidden units\n",
    "    NHEAD = 2         # Transformer heads (must divide EMBEDDING_DIM)\n",
    "    DIM_FF = 512       # Transformer feedforward dim\n",
    "    DROPOUT = 0.15      # Dropout rate\n",
    "    LEARNING_RATE = 1e-4 # Learning rate\n",
    "    WEIGHT_DECAY = 1e-5  # Weight decay for regularization\n",
    "\n",
    "    model = AttentionLSTMModel(\n",
    "        num_channels=input_channels,\n",
    "        embedding_dim=EMBEDDING_DIM,\n",
    "        lstm_hidden=LSTM_HIDDEN,\n",
    "        nhead=NHEAD,\n",
    "        dim_ff=DIM_FF,\n",
    "        dropout=DROPOUT\n",
    "    )\n",
    "\n",
    "    # Move model to GPU if available\n",
    "    device = torch.device(\"cuda\" if torch.cuda.is_available() else \"cpu\")\n",
    "    model.to(device)\n",
    "    print(f\"Using device: {device}\")\n",
    "\n",
    "    criterion = nn.L1Loss() # MAE Loss for age regression\n",
    "    #criterion = nn.MSELoss() # Option: Mean Squared Error\n",
    "\n",
    "    optimizer = optim.AdamW(model.parameters(), lr=LEARNING_RATE, weight_decay=WEIGHT_DECAY) # AdamW is often preferred\n",
    "    num_training_steps = 100 * len(train_loader)\n",
    "    num_warmup_steps = 100\n",
    "    #int(0.01 * num_training_steps)  # 10% warmup\n",
    "\n",
    "    '''scheduler = get_polynomial_decay_schedule_with_warmup(\n",
    "                optimizer, \n",
    "                num_warmup_steps=num_warmup_steps,\n",
    "                num_training_steps=num_training_steps\n",
    "    )'''\n",
    "    '''get_cosine_schedule_with_warmup(\n",
    "    optimizer,\n",
    "    num_warmup_steps=num_warmup_steps,\n",
    "    num_training_steps=num_training_steps\n",
    "    )'''\n",
    "    scheduler = ReduceLROnPlateau(optimizer, mode='min', factor=0.2, patience=5, verbose=True, min_lr=1e-6) # More patience, lower factor\n",
    "\n",
    "    # Print model summary\n",
    "    print(\"\\\\n--- Model Initialized ---\")\n",
    "    print(model)\n",
    "    # Count parameters\n",
    "    total_params = sum(p.numel() for p in model.parameters() if p.requires_grad)\n",
    "    print(f\"Total Trainable Parameters: {total_params:,}\")\n",
    "\n",
    "else:\n",
    "    print(\"\\\\n--- Skipping Model Initialization due to Loading/Splitting Errors ---\")\n",
    "    model = None\n",
    "    criterion = None\n",
    "    optimizer = None\n",
    "    scheduler = None\n",
    "    device = \"cpu\" # Default to CPU if no model/GPU"
   ]
  },
  {
   "cell_type": "code",
   "execution_count": 17,
   "metadata": {
    "execution": {
     "iopub.execute_input": "2025-05-26T02:31:15.133380Z",
     "iopub.status.busy": "2025-05-26T02:31:15.132795Z",
     "iopub.status.idle": "2025-05-26T02:31:15.142107Z",
     "shell.execute_reply": "2025-05-26T02:31:15.141483Z",
     "shell.execute_reply.started": "2025-05-26T02:31:15.133353Z"
    },
    "trusted": true
   },
   "outputs": [],
   "source": [
    "class EarlyStopping:\n",
    "    def __init__(self, path_to_save, patience=10, delta=0.001, restore_best_weights=True, verbose=True):\n",
    "        \"\"\"\n",
    "        Args:\n",
    "            path_to_save (str): Path to save the best model state.\n",
    "            patience (int): How many epochs to wait after last time validation loss improved.\n",
    "            delta (float): Minimum change in the monitored quantity to qualify as an improvement.\n",
    "            restore_best_weights (bool): Whether to restore model weights from the epoch with the best value of the monitored quantity.\n",
    "            verbose (bool): If True, prints a message for each validation loss improvement.\n",
    "        \"\"\"\n",
    "        self.patience = patience\n",
    "        self.delta = delta\n",
    "        self.restore_best_weights = restore_best_weights\n",
    "        self.path_to_save = path_to_save\n",
    "        self.verbose = verbose\n",
    "\n",
    "        self.counter = 0\n",
    "        self.best_score = None\n",
    "        self.early_stop = False\n",
    "        self.best_val_loss = np.Inf\n",
    "        self.best_epoch = 0\n",
    "        self.best_weights = None\n",
    "\n",
    "\n",
    "    def __call__(self, val_loss, epoch, model):\n",
    "        score = -val_loss # We want to maximize the negative loss (minimize loss)\n",
    "\n",
    "        if self.best_score is None:\n",
    "            self.best_score = score\n",
    "            self.best_val_loss = val_loss\n",
    "            self.best_epoch = epoch\n",
    "            self.save_checkpoint(val_loss, model)\n",
    "        elif score < self.best_score + self.delta:\n",
    "            self.counter += 1\n",
    "            if self.verbose:\n",
    "                 print(f'EarlyStopping counter: {self.counter} out of {self.patience} (Best val_loss: {self.best_val_loss:.4f} at epoch {self.best_epoch})')\n",
    "            if self.counter >= self.patience:\n",
    "                self.early_stop = True\n",
    "                print(f\"Early stopping triggered after {epoch} epochs.\")\n",
    "        else:\n",
    "            # Improvement detected\n",
    "            self.best_score = score\n",
    "            self.best_val_loss = val_loss\n",
    "            self.best_epoch = epoch\n",
    "            self.save_checkpoint(val_loss, model)\n",
    "            self.counter = 0 # Reset counter\n",
    "\n",
    "        return self.early_stop\n",
    "\n",
    "    def save_checkpoint(self, val_loss, model):\n",
    "        '''Saves model when validation loss decreases.'''\n",
    "        if self.verbose:\n",
    "            print(f'Validation loss decreased ({self.best_val_loss:.4f} --> {val_loss:.4f}). Saving model to {self.path_to_save} ...')\n",
    "        # Save the current best weights\n",
    "        self.best_weights = model.state_dict()\n",
    "        torch.save(self.best_weights, self.path_to_save)\n",
    "        # Update the stored best loss (needed if comparing score < best_score + delta)\n",
    "        # self.best_val_loss = val_loss # Already updated before calling save_checkpoint\n",
    "\n",
    "    def load_best_weights(self, model):\n",
    "         if self.restore_best_weights and self.best_weights is not None:\n",
    "             print(f\"Restoring model weights from epoch {self.best_epoch} with val_loss: {self.best_val_loss:.4f}\")\n",
    "             model.load_state_dict(self.best_weights)\n",
    "         elif self.restore_best_weights:\n",
    "              print(\"Warning: restore_best_weights=True but no best weights were saved.\")"
   ]
  },
  {
   "cell_type": "code",
   "execution_count": 18,
   "metadata": {
    "execution": {
     "iopub.execute_input": "2025-05-26T02:31:15.143256Z",
     "iopub.status.busy": "2025-05-26T02:31:15.142898Z",
     "iopub.status.idle": "2025-05-26T02:31:15.166187Z",
     "shell.execute_reply": "2025-05-26T02:31:15.165477Z",
     "shell.execute_reply.started": "2025-05-26T02:31:15.143228Z"
    },
    "trusted": true
   },
   "outputs": [],
   "source": [
    "def train_and_eval_model(model, train_loader, test_loader, criterion, optimizer, device, epochs=100, scheduler=None, early_stopping=None):\n",
    "\n",
    "    if model is None or train_loader is None or test_loader is None:\n",
    "        print(\"Model or DataLoaders not initialized. Skipping training.\")\n",
    "        return [], []\n",
    "\n",
    "    train_losses = []\n",
    "    test_losses = []\n",
    "\n",
    "    print(\"\\\\n--- Starting Training ---\")\n",
    "    for epoch in range(epochs):\n",
    "        model.train()\n",
    "        running_train_loss = 0.0\n",
    "        # Use tqdm for progress bar\n",
    "        train_pbar = tqdm(train_loader, unit='batch', desc=f'Train Epoch {epoch + 1}/{epochs}')\n",
    "        for X_batch, y_batch in train_pbar:\n",
    "            # Move data to the correct device\n",
    "            X_batch, y_batch = X_batch.to(device), y_batch.to(device)\n",
    "\n",
    "            # Forward pass\n",
    "            ypred = model(X_batch)\n",
    "            loss = criterion(ypred, y_batch)\n",
    "\n",
    "            # Backward pass and optimization\n",
    "            optimizer.zero_grad()\n",
    "            loss.backward()\n",
    "            # Optional: Gradient Clipping\n",
    "            # torch.nn.utils.clip_grad_norm_(model.parameters(), max_norm=1.0)\n",
    "            optimizer.step()\n",
    "\n",
    "            running_train_loss += loss.item() * X_batch.size(0) # Weighted average contribution\n",
    "            train_pbar.set_postfix(loss=loss.item()) # Show loss in progress bar\n",
    "\n",
    "\n",
    "        epoch_train_loss = running_train_loss / len(train_loader.dataset)\n",
    "        train_losses.append(epoch_train_loss)\n",
    "        print(f'---> Epoch {epoch + 1} Train Loss: {epoch_train_loss:.4f}')\n",
    "\n",
    "        # Validation phase\n",
    "        model.eval()\n",
    "        running_test_loss = 0.0\n",
    "        test_pbar = tqdm(test_loader, unit='batch', desc=f'Eval Epoch {epoch + 1}/{epochs}', leave=False)\n",
    "        with torch.no_grad(): # Use no_grad for evaluation efficiency\n",
    "            for X_batch, y_batch in test_pbar:\n",
    "                X_batch, y_batch = X_batch.to(device), y_batch.to(device)\n",
    "                ypred = model(X_batch)\n",
    "                loss = criterion(ypred, y_batch)\n",
    "                running_test_loss += loss.item() * X_batch.size(0)\n",
    "                test_pbar.set_postfix(loss=loss.item())\n",
    "\n",
    "        epoch_test_loss = running_test_loss / len(test_loader.dataset)\n",
    "        test_losses.append(epoch_test_loss)\n",
    "        print(f'---> Epoch {epoch + 1} Test Loss:  {epoch_test_loss:.4f}')\n",
    "\n",
    "        # Learning rate scheduling step\n",
    "        if scheduler:\n",
    "            if isinstance(scheduler, torch.optim.lr_scheduler.ReduceLROnPlateau):\n",
    "                scheduler.step(epoch_test_loss) # Pass validation loss\n",
    "                # Print current LR (optional)\n",
    "                # current_lr = optimizer.param_groups[0]['lr']\n",
    "                # print(f\"    Current LR: {current_lr:.6f}\")\n",
    "            else:\n",
    "                 scheduler.step() # For other schedulers like StepLR\n",
    "\n",
    "        # Early stopping check\n",
    "        if early_stopping:\n",
    "            if early_stopping(epoch_test_loss, epoch + 1, model): # Pass epoch number (1-based)\n",
    "                break # Stop training loop\n",
    "\n",
    "        print(\"-\" * 50) # Separator between epochs\n",
    "\n",
    "    print(\"--- Training Finished ---\")\n",
    "\n",
    "    # Load best weights if early stopping was used and configured to restore\n",
    "    if early_stopping:\n",
    "        early_stopping.load_best_weights(model)\n",
    "\n",
    "\n",
    "    return train_losses, test_losses"
   ]
  },
  {
   "cell_type": "code",
   "execution_count": 19,
   "metadata": {
    "execution": {
     "iopub.execute_input": "2025-05-26T02:31:15.167196Z",
     "iopub.status.busy": "2025-05-26T02:31:15.166953Z",
     "iopub.status.idle": "2025-05-26T03:03:26.442402Z",
     "shell.execute_reply": "2025-05-26T03:03:26.441647Z",
     "shell.execute_reply.started": "2025-05-26T02:31:15.167176Z"
    },
    "trusted": true
   },
   "outputs": [
    {
     "name": "stdout",
     "output_type": "stream",
     "text": [
      "\\n--- Starting Training ---\n"
     ]
    },
    {
     "name": "stderr",
     "output_type": "stream",
     "text": [
      "Train Epoch 1/10: 100%|██████████| 2131/2131 [03:02<00:00, 11.65batch/s, loss=36.2]\n"
     ]
    },
    {
     "name": "stdout",
     "output_type": "stream",
     "text": [
      "---> Epoch 1 Train Loss: 42.6945\n"
     ]
    },
    {
     "name": "stderr",
     "output_type": "stream",
     "text": [
      "                                                                                \r"
     ]
    },
    {
     "name": "stdout",
     "output_type": "stream",
     "text": [
      "---> Epoch 1 Test Loss:  36.0148\n",
      "Validation loss decreased (36.0148 --> 36.0148). Saving model to best_model_cnnlstm_corrected.pth ...\n",
      "--------------------------------------------------\n"
     ]
    },
    {
     "name": "stderr",
     "output_type": "stream",
     "text": [
      "Train Epoch 2/10: 100%|██████████| 2131/2131 [03:02<00:00, 11.70batch/s, loss=24.6]\n"
     ]
    },
    {
     "name": "stdout",
     "output_type": "stream",
     "text": [
      "---> Epoch 2 Train Loss: 28.4062\n"
     ]
    },
    {
     "name": "stderr",
     "output_type": "stream",
     "text": [
      "                                                                                \r"
     ]
    },
    {
     "name": "stdout",
     "output_type": "stream",
     "text": [
      "---> Epoch 2 Test Loss:  21.7879\n",
      "Validation loss decreased (21.7879 --> 21.7879). Saving model to best_model_cnnlstm_corrected.pth ...\n",
      "--------------------------------------------------\n"
     ]
    },
    {
     "name": "stderr",
     "output_type": "stream",
     "text": [
      "Train Epoch 3/10: 100%|██████████| 2131/2131 [03:02<00:00, 11.70batch/s, loss=14.8]\n"
     ]
    },
    {
     "name": "stdout",
     "output_type": "stream",
     "text": [
      "---> Epoch 3 Train Loss: 18.0983\n"
     ]
    },
    {
     "name": "stderr",
     "output_type": "stream",
     "text": [
      "                                                                                \r"
     ]
    },
    {
     "name": "stdout",
     "output_type": "stream",
     "text": [
      "---> Epoch 3 Test Loss:  15.6682\n",
      "Validation loss decreased (15.6682 --> 15.6682). Saving model to best_model_cnnlstm_corrected.pth ...\n",
      "--------------------------------------------------\n"
     ]
    },
    {
     "name": "stderr",
     "output_type": "stream",
     "text": [
      "Train Epoch 4/10: 100%|██████████| 2131/2131 [03:02<00:00, 11.70batch/s, loss=15.9]\n"
     ]
    },
    {
     "name": "stdout",
     "output_type": "stream",
     "text": [
      "---> Epoch 4 Train Loss: 15.5991\n"
     ]
    },
    {
     "name": "stderr",
     "output_type": "stream",
     "text": [
      "                                                                                \r"
     ]
    },
    {
     "name": "stdout",
     "output_type": "stream",
     "text": [
      "---> Epoch 4 Test Loss:  15.2722\n",
      "Validation loss decreased (15.2722 --> 15.2722). Saving model to best_model_cnnlstm_corrected.pth ...\n",
      "--------------------------------------------------\n"
     ]
    },
    {
     "name": "stderr",
     "output_type": "stream",
     "text": [
      "Train Epoch 5/10: 100%|██████████| 2131/2131 [03:02<00:00, 11.70batch/s, loss=12.1]\n"
     ]
    },
    {
     "name": "stdout",
     "output_type": "stream",
     "text": [
      "---> Epoch 5 Train Loss: 15.4999\n"
     ]
    },
    {
     "name": "stderr",
     "output_type": "stream",
     "text": [
      "                                                                                \r"
     ]
    },
    {
     "name": "stdout",
     "output_type": "stream",
     "text": [
      "---> Epoch 5 Test Loss:  15.2825\n",
      "EarlyStopping counter: 1 out of 50 (Best val_loss: 15.2722 at epoch 4)\n",
      "--------------------------------------------------\n"
     ]
    },
    {
     "name": "stderr",
     "output_type": "stream",
     "text": [
      "Train Epoch 6/10: 100%|██████████| 2131/2131 [03:02<00:00, 11.70batch/s, loss=17.5]\n"
     ]
    },
    {
     "name": "stdout",
     "output_type": "stream",
     "text": [
      "---> Epoch 6 Train Loss: 15.4759\n"
     ]
    },
    {
     "name": "stderr",
     "output_type": "stream",
     "text": [
      "                                                                                \r"
     ]
    },
    {
     "name": "stdout",
     "output_type": "stream",
     "text": [
      "---> Epoch 6 Test Loss:  15.2734\n",
      "EarlyStopping counter: 2 out of 50 (Best val_loss: 15.2722 at epoch 4)\n",
      "--------------------------------------------------\n"
     ]
    },
    {
     "name": "stderr",
     "output_type": "stream",
     "text": [
      "Train Epoch 7/10: 100%|██████████| 2131/2131 [03:02<00:00, 11.70batch/s, loss=15.2]\n"
     ]
    },
    {
     "name": "stdout",
     "output_type": "stream",
     "text": [
      "---> Epoch 7 Train Loss: 15.4831\n"
     ]
    },
    {
     "name": "stderr",
     "output_type": "stream",
     "text": [
      "                                                                                \r"
     ]
    },
    {
     "name": "stdout",
     "output_type": "stream",
     "text": [
      "---> Epoch 7 Test Loss:  15.2780\n",
      "EarlyStopping counter: 3 out of 50 (Best val_loss: 15.2722 at epoch 4)\n",
      "--------------------------------------------------\n"
     ]
    },
    {
     "name": "stderr",
     "output_type": "stream",
     "text": [
      "Train Epoch 8/10: 100%|██████████| 2131/2131 [03:02<00:00, 11.69batch/s, loss=13.9]\n"
     ]
    },
    {
     "name": "stdout",
     "output_type": "stream",
     "text": [
      "---> Epoch 8 Train Loss: 15.4915\n"
     ]
    },
    {
     "name": "stderr",
     "output_type": "stream",
     "text": [
      "                                                                                \r"
     ]
    },
    {
     "name": "stdout",
     "output_type": "stream",
     "text": [
      "---> Epoch 8 Test Loss:  15.2797\n",
      "EarlyStopping counter: 4 out of 50 (Best val_loss: 15.2722 at epoch 4)\n",
      "--------------------------------------------------\n"
     ]
    },
    {
     "name": "stderr",
     "output_type": "stream",
     "text": [
      "Train Epoch 9/10: 100%|██████████| 2131/2131 [03:02<00:00, 11.69batch/s, loss=14.8]\n"
     ]
    },
    {
     "name": "stdout",
     "output_type": "stream",
     "text": [
      "---> Epoch 9 Train Loss: 15.5460\n"
     ]
    },
    {
     "name": "stderr",
     "output_type": "stream",
     "text": [
      "                                                                                \r"
     ]
    },
    {
     "name": "stdout",
     "output_type": "stream",
     "text": [
      "---> Epoch 9 Test Loss:  15.2781\n",
      "EarlyStopping counter: 5 out of 50 (Best val_loss: 15.2722 at epoch 4)\n",
      "--------------------------------------------------\n"
     ]
    },
    {
     "name": "stderr",
     "output_type": "stream",
     "text": [
      "Train Epoch 10/10: 100%|██████████| 2131/2131 [03:02<00:00, 11.69batch/s, loss=9.12]\n"
     ]
    },
    {
     "name": "stdout",
     "output_type": "stream",
     "text": [
      "---> Epoch 10 Train Loss: 15.4659\n"
     ]
    },
    {
     "name": "stderr",
     "output_type": "stream",
     "text": [
      "                                                                                 "
     ]
    },
    {
     "name": "stdout",
     "output_type": "stream",
     "text": [
      "---> Epoch 10 Test Loss:  15.2772\n",
      "EarlyStopping counter: 6 out of 50 (Best val_loss: 15.2722 at epoch 4)\n",
      "--------------------------------------------------\n",
      "--- Training Finished ---\n",
      "Restoring model weights from epoch 4 with val_loss: 15.2722\n",
      "\\n--- Post-Training Evaluation ---\n",
      "Minimum Training Loss: 15.4659\n",
      "Minimum Validation Loss: 15.2722\n"
     ]
    },
    {
     "name": "stderr",
     "output_type": "stream",
     "text": [
      "\r"
     ]
    }
   ],
   "source": [
    "# Ensure model and dataloaders are ready\n",
    "if model and train_loader and test_loader and criterion and optimizer and device:\n",
    "    # Initialize Early Stopping\n",
    "    early_stopper = EarlyStopping(path_to_save='best_model_cnnlstm_corrected.pth', patience=50, delta=0.01, verbose=True) # Increased patience\n",
    "\n",
    "    # --- Start Training ---\n",
    "    num_epochs = 10 # Adjust as needed\n",
    "    train_losses, test_losses = train_and_eval_model(\n",
    "        model=model,\n",
    "        train_loader=train_loader,\n",
    "        test_loader=test_loader,\n",
    "        criterion=criterion,\n",
    "        optimizer=optimizer,\n",
    "        device=device, # Pass the device\n",
    "        epochs=num_epochs,\n",
    "        scheduler=scheduler,\n",
    "        early_stopping=early_stopper\n",
    "    )\n",
    "\n",
    "    print(\"\\\\n--- Post-Training Evaluation ---\")\n",
    "    print(f\"Minimum Training Loss: {np.min(train_losses):.4f}\")\n",
    "    print(f\"Minimum Validation Loss: {np.min(test_losses):.4f}\")\n",
    "    if early_stopper.early_stop:\n",
    "         print(f\"Stopped early at epoch {early_stopper.best_epoch}. Best Validation Loss: {early_stopper.best_val_loss:.4f}\")\n",
    "\n",
    "else:\n",
    "    print(\"\\\\n--- Cannot Start Training due to Initialization Errors ---\")\n",
    "    train_losses, test_losses = [], [] # Assign empty lists"
   ]
  },
  {
   "cell_type": "code",
   "execution_count": 20,
   "metadata": {
    "execution": {
     "iopub.execute_input": "2025-05-26T03:03:26.443563Z",
     "iopub.status.busy": "2025-05-26T03:03:26.443261Z",
     "iopub.status.idle": "2025-05-26T03:03:26.688324Z",
     "shell.execute_reply": "2025-05-26T03:03:26.687473Z",
     "shell.execute_reply.started": "2025-05-26T03:03:26.443535Z"
    },
    "trusted": true
   },
   "outputs": [],
   "source": [
    "import gc\n",
    "gc.collect()\n",
    "torch.cuda.empty_cache()\n",
    "del model"
   ]
  },
  {
   "cell_type": "code",
   "execution_count": 21,
   "metadata": {
    "execution": {
     "iopub.execute_input": "2025-05-26T03:03:26.689465Z",
     "iopub.status.busy": "2025-05-26T03:03:26.689164Z",
     "iopub.status.idle": "2025-05-26T03:03:26.693211Z",
     "shell.execute_reply": "2025-05-26T03:03:26.692473Z",
     "shell.execute_reply.started": "2025-05-26T03:03:26.689438Z"
    },
    "trusted": true
   },
   "outputs": [],
   "source": [
    "# if train_losses and test_losses:\n",
    "#     print(f\"Final Minimum Training Loss: {np.min(train_losses):.4f}\")\n",
    "#     print(f\"Final Minimum Validation Loss: {np.min(test_losses):.4f}\")\n",
    "# else:\n",
    "#      print(\"No training results available.\")"
   ]
  },
  {
   "cell_type": "code",
   "execution_count": 22,
   "metadata": {
    "execution": {
     "iopub.execute_input": "2025-05-26T03:03:26.694309Z",
     "iopub.status.busy": "2025-05-26T03:03:26.694038Z",
     "iopub.status.idle": "2025-05-26T03:03:26.951669Z",
     "shell.execute_reply": "2025-05-26T03:03:26.950765Z",
     "shell.execute_reply.started": "2025-05-26T03:03:26.694284Z"
    },
    "trusted": true
   },
   "outputs": [
    {
     "data": {
      "image/png": "[encoded data removed]",
      "text/plain": [
       "<Figure size 1000x600 with 1 Axes>"
      ]
     },
     "metadata": {},
     "output_type": "display_data"
    }
   ],
   "source": [
    "if train_losses and test_losses:\n",
    "    plt.figure(figsize=(10, 6))\n",
    "    plt.plot(train_losses, label='Train Loss')\n",
    "    plt.plot(test_losses, label='Validation Loss')\n",
    "\n",
    "    # Find the epoch with the minimum validation loss\n",
    "    min_val_loss_epoch = np.argmin(test_losses)\n",
    "    min_val_loss = np.min(test_losses)\n",
    "    plt.scatter(min_val_loss_epoch, min_val_loss, color='red', zorder=5, label=f'Best Val Loss: {min_val_loss:.4f}')\n",
    "\n",
    "    # If early stopping happened, mark where it stopped conceptually (best epoch)\n",
    "    if 'early_stopper' in globals() and early_stopper.early_stop:\n",
    "         plt.axvline(early_stopper.best_epoch -1 , color='r', linestyle='--', label=f'Best Epoch: {early_stopper.best_epoch}') # epoch is 1-based\n",
    "\n",
    "    plt.xlabel('Epochs')\n",
    "    plt.ylabel('Loss (L1 MAE)')\n",
    "    plt.title('Training and Validation Loss')\n",
    "    plt.legend()\n",
    "    plt.grid(True)\n",
    "    plt.show()\n",
    "else:\n",
    "    print(\"No training data to plot.\")"
   ]
  },
  {
   "cell_type": "code",
   "execution_count": 23,
   "metadata": {
    "execution": {
     "iopub.execute_input": "2025-05-26T03:03:26.952736Z",
     "iopub.status.busy": "2025-05-26T03:03:26.952499Z",
     "iopub.status.idle": "2025-05-26T03:03:27.648377Z",
     "shell.execute_reply": "2025-05-26T03:03:27.647564Z",
     "shell.execute_reply.started": "2025-05-26T03:03:26.952719Z"
    },
    "trusted": true
   },
   "outputs": [],
   "source": [
    "np.save(\"X_train_corrected.npy\", X_train.cpu().numpy() if 'X_train' in globals() else None)"
   ]
  },
  {
   "cell_type": "code",
   "execution_count": 24,
   "metadata": {
    "execution": {
     "iopub.execute_input": "2025-05-26T03:03:27.649407Z",
     "iopub.status.busy": "2025-05-26T03:03:27.649216Z",
     "iopub.status.idle": "2025-05-26T03:03:28.314533Z",
     "shell.execute_reply": "2025-05-26T03:03:28.313805Z",
     "shell.execute_reply.started": "2025-05-26T03:03:27.649392Z"
    },
    "trusted": true
   },
   "outputs": [
    {
     "name": "stdout",
     "output_type": "stream",
     "text": [
      "<Info | 11 non-empty values\n",
      " bads: []\n",
      " ch_names: parcel_0, parcel_1, parcel_2, parcel_3, parcel_4, parcel_5, ...\n",
      " chs: 52 misc, 17 Stimulus\n",
      " custom_ref_applied: False\n",
      " description: Anonymized using a time shift to preserve age at acquisition OSL ...\n",
      " dig: 0 items\n",
      " file_id: 4 items (dict)\n",
      " highpass: 0.0 Hz\n",
      " lowpass: 125.0 Hz\n",
      " meas_date: 1916-01-09 10:21:05 UTC\n",
      " meas_id: 4 items (dict)\n",
      " nchan: 69\n",
      " projs: []\n",
      " sfreq: 250.0 Hz\n",
      ">\n"
     ]
    }
   ],
   "source": [
    "import mne\n",
    "# Define the path to the file\n",
    "file_path = \"/kaggle/input/eeg-brain/Neural-Science/data/group_1/sub-CC110033_sflip_parc-raw.fif\"\n",
    "# Load the raw data\n",
    "raw = mne.io.read_raw_fif(file_path, preload=True)\n",
    "# Display information about the raw object\n",
    "print(raw.info)"
   ]
  },
  {
   "cell_type": "code",
   "execution_count": 25,
   "metadata": {
    "execution": {
     "iopub.execute_input": "2025-05-26T03:03:28.315549Z",
     "iopub.status.busy": "2025-05-26T03:03:28.315284Z",
     "iopub.status.idle": "2025-05-26T03:03:28.378786Z",
     "shell.execute_reply": "2025-05-26T03:03:28.377901Z",
     "shell.execute_reply.started": "2025-05-26T03:03:28.315522Z"
    },
    "trusted": true
   },
   "outputs": [
    {
     "name": "stdout",
     "output_type": "stream",
     "text": [
      "<Info | 11 non-empty values\n",
      " bads: []\n",
      " ch_names: parcel_0, parcel_1, parcel_2, parcel_3, parcel_4, parcel_5, ...\n",
      " chs: 52 misc\n",
      " custom_ref_applied: False\n",
      " description: Anonymized using a time shift to preserve age at acquisition OSL ...\n",
      " dig: 0 items\n",
      " file_id: 4 items (dict)\n",
      " highpass: 0.0 Hz\n",
      " lowpass: 125.0 Hz\n",
      " meas_date: 1916-01-09 10:21:05 UTC\n",
      " meas_id: 4 items (dict)\n",
      " nchan: 52\n",
      " projs: []\n",
      " sfreq: 250.0 Hz\n",
      ">\n"
     ]
    }
   ],
   "source": [
    "# Extract only MISC channels\n",
    "misc_channels = raw.copy().pick_types(misc=True)\n",
    "# Display information about the extracted channels\n",
    "print(misc_channels.info)"
   ]
  },
  {
   "cell_type": "code",
   "execution_count": 26,
   "metadata": {
    "execution": {
     "iopub.execute_input": "2025-05-26T03:03:28.380144Z",
     "iopub.status.busy": "2025-05-26T03:03:28.379645Z",
     "iopub.status.idle": "2025-05-26T03:03:28.385215Z",
     "shell.execute_reply": "2025-05-26T03:03:28.384639Z",
     "shell.execute_reply.started": "2025-05-26T03:03:28.380118Z"
    },
    "trusted": true
   },
   "outputs": [
    {
     "name": "stdout",
     "output_type": "stream",
     "text": [
      "Total recording time: 574.00 seconds\n"
     ]
    }
   ],
   "source": [
    "# Get the total recording time in seconds\n",
    "total_duration = raw.times[-1]\n",
    "# Alternatively, using the raw.info dictionary\n",
    "total_duration_alt = raw.n_times / raw.info['sfreq']\n",
    "# Print the total duration\n",
    "print(f\"Total recording time: {total_duration:.2f} seconds\")"
   ]
  }
 ],
 "metadata": {
  "kaggle": {
   "accelerator": "gpu",
   "dataSources": [
    {
     "datasetId": 7153305,
     "sourceId": 11421984,
     "sourceType": "datasetVersion"
    }
   ],
   "dockerImageVersionId": 31011,
   "isGpuEnabled": true,
   "isInternetEnabled": true,
   "language": "python",
   "sourceType": "notebook"
  },
  "kernelspec": {
   "display_name": "Python 3",
   "language": "python",
   "name": "python3"
  },
  "language_info": {
   "codemirror_mode": {
    "name": "ipython",
    "version": 3
   },
   "file_extension": ".py",
   "mimetype": "text/x-python",
   "name": "python",
   "nbconvert_exporter": "python",
   "pygments_lexer": "ipython3",
   "version": "3.11.11"
  }
 },
 "nbformat": 4,
 "nbformat_minor": 4
}
